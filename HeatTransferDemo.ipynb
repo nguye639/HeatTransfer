{
 "cells": [
  {
   "cell_type": "code",
   "execution_count": 1,
   "id": "f8b85f5a",
   "metadata": {},
   "outputs": [],
   "source": [
    "import numpy as np\n",
    "import matplotlib.pyplot as plt\n",
    "from scipy.stats import multivariate_normal\n",
    "import imageio"
   ]
  },
  {
   "cell_type": "markdown",
   "id": "6af67621",
   "metadata": {},
   "source": [
    "## Simulation Functions"
   ]
  },
  {
   "cell_type": "code",
   "execution_count": 2,
   "id": "80b4ede9",
   "metadata": {},
   "outputs": [],
   "source": [
    "def getNeighbors(grid, point):\n",
    "    neighbors = []\n",
    "    for i in range(-1,2):\n",
    "        for j in range(-1,2):\n",
    "            try:\n",
    "                if abs(i) != abs(j):\n",
    "                    neighbors.append(grid[point[0] + i][point[1]+ j])\n",
    "            except:\n",
    "                neighbors.append(20)\n",
    "            \n",
    "    return neighbors\n",
    "\n",
    "def calculateHeatTransient(cellTemp, neighborTemps, timeStep, thermalDiffusivity):\n",
    "    cellTemp = cellTemp + timeStep*thermalDiffusivity*((neighborTemps[0] -2*cellTemp + neighborTemps[-1]) + \n",
    "                                                       (neighborTemps[1] -2*cellTemp + neighborTemps[-2]))\n",
    "    return cellTemp\n",
    "\n",
    "def heatTransferTransient(grid, timeStep):\n",
    "    for i in range(0,len(grid)):\n",
    "        for j in range(0,len(grid)):\n",
    "            neighbors = getNeighbors(grid[:,:,0], (i,j))\n",
    "            grid[:,:,0][i][j] = calculateHeatTransient(grid[:,:,0][i][j], neighbors, timeStep, grid[:,:,1][i][j])\n",
    "              \n",
    "    return grid\n",
    "\n",
    "    "
   ]
  },
  {
   "cell_type": "markdown",
   "id": "9134a555",
   "metadata": {},
   "source": [
    "## Untility Functions"
   ]
  },
  {
   "cell_type": "code",
   "execution_count": 3,
   "id": "1768c1d6",
   "metadata": {},
   "outputs": [],
   "source": [
    "def makeGif(frames,name,minTemp,maxTemp):\n",
    "    !mkdir frames\n",
    "    \n",
    "    counter=0\n",
    "    images = []\n",
    "    for i in range(0,len(frames)):\n",
    "        plt.figure()\n",
    "        plt.imshow(frames[i], cmap = \"inferno\", vmin = minTemp, vmax = maxTemp)\n",
    "        plt.savefig(\"frames/\" + str(counter)+ \".png\")\n",
    "        images.append(imageio.imread(\"frames/\" + str(counter)+ \".png\"))\n",
    "        counter += 1\n",
    "        plt.close()\n",
    "        \n",
    "    imageio.mimsave(name, images)\n",
    "        \n",
    "    !rm -r frames"
   ]
  },
  {
   "cell_type": "markdown",
   "id": "743accc9",
   "metadata": {},
   "source": [
    "## Welding Scenario"
   ]
  },
  {
   "cell_type": "code",
   "execution_count": 4,
   "id": "96a57cc8",
   "metadata": {},
   "outputs": [],
   "source": [
    "def initSheet(startTemp, thermalDiffusivity1, thermalDiffusivity2, resolution):\n",
    "    \n",
    "    imgTemp = np.full(resolution**2, startTemp)\n",
    "    imgDiffusivity = np.full(resolution**2, thermalDiffusivity1)\n",
    "    \n",
    "    imgDiffusivity[:int(len(imgDiffusivity)/2)] = thermalDiffusivity2\n",
    "    \n",
    "    imgTemp = imgTemp.reshape((resolution,resolution)).T\n",
    "    imgDiffusivity = imgDiffusivity.reshape((resolution,resolution)).T\n",
    "    \n",
    "    img = np.dstack([imgTemp, imgDiffusivity])\n",
    "    \n",
    "    return img"
   ]
  },
  {
   "cell_type": "code",
   "execution_count": 5,
   "id": "4b494848",
   "metadata": {},
   "outputs": [],
   "source": [
    "steelDiffusivity = 1.172*10**-3\n",
    "brassDiffusivity = 3.42*10**-3\n",
    "\n",
    "sheet = initSheet(20, steelDiffusivity, brassDiffusivity, 100)\n",
    "\n",
    "frames = [sheet[:,:,0].copy()]\n",
    "time = [0]\n",
    "timeStep = 10\n",
    "for i in range(0,len(sheet)):\n",
    "    sheet[i,50,0] += 10000\n",
    "    sheet = heatTransferTransient(sheet, timeStep)\n",
    "    frames.append(sheet[:,:,0].copy())\n",
    "    time.append(time[-1] + timeStep)\n",
    "\n",
    "timeStep = 30\n",
    "for i in range(0,700):\n",
    "    sheet = heatTransferTransient(sheet, timeStep)\n",
    "    frames.append(sheet[:,:,0].copy())\n",
    "    time.append(time[-1] + timeStep)"
   ]
  },
  {
   "cell_type": "code",
   "execution_count": 6,
   "id": "575b57ea",
   "metadata": {},
   "outputs": [
    {
     "name": "stdout",
     "output_type": "stream",
     "text": [
      "mkdir: frames: File exists\r\n"
     ]
    },
    {
     "name": "stderr",
     "output_type": "stream",
     "text": [
      "/var/folders/q1/jf3qx4ps6gjdmw1v4vfw_msc0000gn/T/ipykernel_8998/345337371.py:10: DeprecationWarning: Starting with ImageIO v3 the behavior of this function will switch to that of iio.v3.imread. To keep the current behavior (and make this warning disappear) use `import imageio.v2 as imageio` or call `imageio.v2.imread` directly.\n",
      "  images.append(imageio.imread(\"frames/\" + str(counter)+ \".png\"))\n"
     ]
    }
   ],
   "source": [
    "makeGif(frames,\"Welding.gif\",20, 2000)"
   ]
  },
  {
   "cell_type": "markdown",
   "id": "8c5971d2",
   "metadata": {},
   "source": [
    "## Burner Scenario "
   ]
  },
  {
   "cell_type": "code",
   "execution_count": 7,
   "id": "922ed4c0",
   "metadata": {},
   "outputs": [],
   "source": [
    "def initCircle(center, radius, backgroundTemp, startTemp, backGroundDiffusivity, thermalDiffusivity, resolution):\n",
    "    \n",
    "    indexX,indexY = np.meshgrid(np.arange(0,resolution),np.arange(0,resolution))\n",
    "    \n",
    "    circle = (indexX - center[0])**2 + (indexY - center[1])**2\n",
    "    mask = circle < radius\n",
    "    \n",
    "    imgTemp = np.full(len(mask.ravel()), backgroundTemp)\n",
    "    imgDiffusivity = np.full(len(mask.ravel()), backGroundDiffusivity)\n",
    "    \n",
    "    imgTemp[mask.ravel()] = startTemp\n",
    "    imgDiffusivity[mask.ravel()] = thermalDiffusivity\n",
    "    \n",
    "    imgTemp = imgTemp.reshape((resolution,resolution))\n",
    "    imgDiffusivity = imgDiffusivity.reshape((resolution,resolution))\n",
    "    \n",
    "    img = np.dstack([imgTemp, imgDiffusivity])\n",
    "    \n",
    "    return img\n",
    "\n",
    "def addHeat(center, radius, temp, resolution):\n",
    "    \n",
    "    indexX,indexY = np.meshgrid(np.arange(0,resolution),np.arange(0,resolution))\n",
    "    \n",
    "    circle = (indexX - center[0])**2 + (indexY - center[1])**2\n",
    "    mask = circle < radius\n",
    "    \n",
    "    imgTemp = np.full(len(mask.ravel()), 0)\n",
    "    \n",
    "    imgTemp[mask.ravel()] = temp\n",
    "\n",
    "    imgTemp = imgTemp.reshape((resolution,resolution))\n",
    "    \n",
    "    return imgTemp"
   ]
  },
  {
   "cell_type": "code",
   "execution_count": 8,
   "id": "01b7931d",
   "metadata": {},
   "outputs": [],
   "source": [
    "steelDiffusivity = 1.172*10**-3\n",
    "brassDiffusivity = 3.42*10**-3\n",
    "\n",
    "img = initCircle((50,50), 500, 20, 20, brassDiffusivity, brassDiffusivity, 100)\n",
    "\n",
    "frames = [img[:,:,0].copy()]\n",
    "\n",
    "for i in range(0,100):\n",
    "    img[:,:,0] += addHeat((50,50), 500, 10, 100)\n",
    "    img = heatTransferTransient(img, 60)\n",
    "    frames.append(img[:,:,0].copy())\n",
    "\n",
    "for i in range(0,700):\n",
    "    img = heatTransferTransient(img, 60)\n",
    "    frames.append(img[:,:,0].copy())"
   ]
  },
  {
   "cell_type": "code",
   "execution_count": null,
   "id": "ac1f0c71",
   "metadata": {},
   "outputs": [
    {
     "name": "stderr",
     "output_type": "stream",
     "text": [
      "/var/folders/q1/jf3qx4ps6gjdmw1v4vfw_msc0000gn/T/ipykernel_8998/345337371.py:10: DeprecationWarning: Starting with ImageIO v3 the behavior of this function will switch to that of iio.v3.imread. To keep the current behavior (and make this warning disappear) use `import imageio.v2 as imageio` or call `imageio.v2.imread` directly.\n",
      "  images.append(imageio.imread(\"frames/\" + str(counter)+ \".png\"))\n"
     ]
    }
   ],
   "source": [
    "makeGif(frames,\"Bruner.gif\",20, 500)"
   ]
  },
  {
   "cell_type": "code",
   "execution_count": null,
   "id": "7291a1f8",
   "metadata": {},
   "outputs": [],
   "source": []
  }
 ],
 "metadata": {
  "kernelspec": {
   "display_name": "Python 3 (ipykernel)",
   "language": "python",
   "name": "python3"
  },
  "language_info": {
   "codemirror_mode": {
    "name": "ipython",
    "version": 3
   },
   "file_extension": ".py",
   "mimetype": "text/x-python",
   "name": "python",
   "nbconvert_exporter": "python",
   "pygments_lexer": "ipython3",
   "version": "3.10.10"
  }
 },
 "nbformat": 4,
 "nbformat_minor": 5
}
